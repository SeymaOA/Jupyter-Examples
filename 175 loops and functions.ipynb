{
 "cells": [
  {
   "cell_type": "code",
   "execution_count": 1,
   "id": "international-distributor",
   "metadata": {},
   "outputs": [],
   "source": [
    "def count(numbers):\n",
    "    total = 0\n",
    "    for y in numbers:\n",
    "        if y < 20:\n",
    "            total += 1\n",
    "    return total"
   ]
  },
  {
   "cell_type": "code",
   "execution_count": 2,
   "id": "cleared-ethiopia",
   "metadata": {},
   "outputs": [],
   "source": [
    "list_a = [0,1,2,3,4,5,99,100,101]"
   ]
  },
  {
   "cell_type": "code",
   "execution_count": 3,
   "id": "iraqi-field",
   "metadata": {},
   "outputs": [
    {
     "data": {
      "text/plain": [
       "6"
      ]
     },
     "execution_count": 3,
     "metadata": {},
     "output_type": "execute_result"
    }
   ],
   "source": [
    "count(list_a)"
   ]
  },
  {
   "cell_type": "code",
   "execution_count": 4,
   "id": "european-gibson",
   "metadata": {},
   "outputs": [],
   "source": [
    "list_b = [0,1,2,3,4,5,99,100,101,6,7,8,9,10,11,12,13,14,15,16,17,18,19,20]"
   ]
  },
  {
   "cell_type": "code",
   "execution_count": 5,
   "id": "radical-combat",
   "metadata": {},
   "outputs": [
    {
     "data": {
      "text/plain": [
       "20"
      ]
     },
     "execution_count": 5,
     "metadata": {},
     "output_type": "execute_result"
    }
   ],
   "source": [
    "count(list_b)"
   ]
  },
  {
   "cell_type": "code",
   "execution_count": null,
   "id": "realistic-equivalent",
   "metadata": {},
   "outputs": [],
   "source": []
  }
 ],
 "metadata": {
  "kernelspec": {
   "display_name": "Python 3",
   "language": "python",
   "name": "python3"
  },
  "language_info": {
   "codemirror_mode": {
    "name": "ipython",
    "version": 3
   },
   "file_extension": ".py",
   "mimetype": "text/x-python",
   "name": "python",
   "nbconvert_exporter": "python",
   "pygments_lexer": "ipython3",
   "version": "3.9.1"
  }
 },
 "nbformat": 4,
 "nbformat_minor": 5
}
