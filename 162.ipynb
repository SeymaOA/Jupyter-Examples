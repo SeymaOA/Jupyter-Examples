{
 "cells": [
  {
   "cell_type": "code",
   "execution_count": 8,
   "id": "cardiac-number",
   "metadata": {},
   "outputs": [],
   "source": [
    "def wage(w_hours):\n",
    "    return w_hours * 25\n",
    "def with_bonus(w_hours):\n",
    "    return wage(w_hours) + 50"
   ]
  },
  {
   "cell_type": "code",
   "execution_count": 10,
   "id": "cooperative-chart",
   "metadata": {},
   "outputs": [
    {
     "data": {
      "text/plain": [
       "(200, 250)"
      ]
     },
     "execution_count": 10,
     "metadata": {},
     "output_type": "execute_result"
    }
   ],
   "source": [
    "wage(8) , with_bonus(8)"
   ]
  },
  {
   "cell_type": "code",
   "execution_count": null,
   "id": "informational-product",
   "metadata": {},
   "outputs": [],
   "source": []
  }
 ],
 "metadata": {
  "kernelspec": {
   "display_name": "Python 3",
   "language": "python",
   "name": "python3"
  },
  "language_info": {
   "codemirror_mode": {
    "name": "ipython",
    "version": 3
   },
   "file_extension": ".py",
   "mimetype": "text/x-python",
   "name": "python",
   "nbconvert_exporter": "python",
   "pygments_lexer": "ipython3",
   "version": "3.9.1"
  }
 },
 "nbformat": 4,
 "nbformat_minor": 5
}
