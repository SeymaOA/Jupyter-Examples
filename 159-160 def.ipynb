{
 "cells": [
  {
   "cell_type": "code",
   "execution_count": 1,
   "id": "primary-portsmouth",
   "metadata": {},
   "outputs": [],
   "source": [
    "def simple():\n",
    "    print(\"My first function\")\n"
   ]
  },
  {
   "cell_type": "code",
   "execution_count": 2,
   "id": "close-moses",
   "metadata": {},
   "outputs": [
    {
     "name": "stdout",
     "output_type": "stream",
     "text": [
      "My first function\n"
     ]
    }
   ],
   "source": [
    "simple()"
   ]
  },
  {
   "cell_type": "code",
   "execution_count": 3,
   "id": "pending-article",
   "metadata": {},
   "outputs": [],
   "source": [
    "def plus_ten(a):\n",
    "    return a + 10"
   ]
  },
  {
   "cell_type": "code",
   "execution_count": 4,
   "id": "artificial-adjustment",
   "metadata": {},
   "outputs": [
    {
     "data": {
      "text/plain": [
       "12"
      ]
     },
     "execution_count": 4,
     "metadata": {},
     "output_type": "execute_result"
    }
   ],
   "source": [
    "plus_ten(2)"
   ]
  },
  {
   "cell_type": "code",
   "execution_count": 6,
   "id": "focal-manufacturer",
   "metadata": {},
   "outputs": [
    {
     "data": {
      "text/plain": [
       "15"
      ]
     },
     "execution_count": 6,
     "metadata": {},
     "output_type": "execute_result"
    }
   ],
   "source": [
    "plus_ten(5)"
   ]
  },
  {
   "cell_type": "code",
   "execution_count": 7,
   "id": "deadly-price",
   "metadata": {},
   "outputs": [],
   "source": [
    "def division_two_plus_one(b):\n",
    "    return b/2+1"
   ]
  },
  {
   "cell_type": "code",
   "execution_count": 8,
   "id": "republican-advocacy",
   "metadata": {},
   "outputs": [
    {
     "data": {
      "text/plain": [
       "51.0"
      ]
     },
     "execution_count": 8,
     "metadata": {},
     "output_type": "execute_result"
    }
   ],
   "source": [
    "division_two_plus_one(100)"
   ]
  },
  {
   "cell_type": "code",
   "execution_count": 9,
   "id": "waiting-report",
   "metadata": {},
   "outputs": [],
   "source": [
    "def times_five (c):\n",
    "    return c*5"
   ]
  },
  {
   "cell_type": "code",
   "execution_count": 10,
   "id": "overall-theater",
   "metadata": {},
   "outputs": [
    {
     "data": {
      "text/plain": [
       "50"
      ]
     },
     "execution_count": 10,
     "metadata": {},
     "output_type": "execute_result"
    }
   ],
   "source": [
    "times_five(10)"
   ]
  },
  {
   "cell_type": "code",
   "execution_count": 15,
   "id": "imperial-addiction",
   "metadata": {},
   "outputs": [
    {
     "data": {
      "text/plain": [
       "15"
      ]
     },
     "execution_count": 15,
     "metadata": {},
     "output_type": "execute_result"
    }
   ],
   "source": [
    "plus_ten(5)"
   ]
  },
  {
   "cell_type": "code",
   "execution_count": 20,
   "id": "digital-escape",
   "metadata": {},
   "outputs": [],
   "source": [
    "def plus_five (d):\n",
    "    result = d+5\n",
    "    return result"
   ]
  },
  {
   "cell_type": "code",
   "execution_count": 21,
   "id": "directed-surface",
   "metadata": {},
   "outputs": [
    {
     "data": {
      "text/plain": [
       "65"
      ]
     },
     "execution_count": 21,
     "metadata": {},
     "output_type": "execute_result"
    }
   ],
   "source": [
    "plus_five (60)"
   ]
  },
  {
   "cell_type": "code",
   "execution_count": null,
   "id": "legitimate-farming",
   "metadata": {},
   "outputs": [],
   "source": []
  }
 ],
 "metadata": {
  "kernelspec": {
   "display_name": "Python 3",
   "language": "python",
   "name": "python3"
  },
  "language_info": {
   "codemirror_mode": {
    "name": "ipython",
    "version": 3
   },
   "file_extension": ".py",
   "mimetype": "text/x-python",
   "name": "python",
   "nbconvert_exporter": "python",
   "pygments_lexer": "ipython3",
   "version": "3.9.1"
  }
 },
 "nbformat": 4,
 "nbformat_minor": 5
}
