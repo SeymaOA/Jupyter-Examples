{
 "cells": [
  {
   "cell_type": "code",
   "execution_count": 1,
   "id": "subtle-remark",
   "metadata": {},
   "outputs": [
    {
     "name": "stdout",
     "output_type": "stream",
     "text": [
      "24\n",
      "74\n",
      "74\n"
     ]
    }
   ],
   "source": [
    "prices = {\n",
    "    \"pasta\" : 4,\n",
    "    \"beef\" : 5,\n",
    "    \"cheese\" : 2\n",
    "}\n",
    "quantity = {\n",
    "    \"pasta\" : 6,\n",
    "    \"beef\" : 10,\n",
    "    \"cheese\" : 0\n",
    "}\n",
    "\n",
    "money_spent = 0\n",
    "\n",
    "for i in quantity:\n",
    "    money_spent = money_spent + (prices[i] * quantity[i])\n",
    "    \n",
    "    print(money_spent)"
   ]
  },
  {
   "cell_type": "code",
   "execution_count": 2,
   "id": "handled-trace",
   "metadata": {},
   "outputs": [
    {
     "name": "stdout",
     "output_type": "stream",
     "text": [
      "20\n",
      "30\n",
      "44\n"
     ]
    }
   ],
   "source": [
    "prices = {\"pen\" : 2, \"ruler\" : 5, \"paper\" : 7}\n",
    "quantity = {\"pen\" : 10, \"ruler\" : 2, \"paper\" : 2}\n",
    "\n",
    "money_spent = 0\n",
    "\n",
    "for x in quantity:\n",
    "    money_spent = money_spent + (prices[x] * quantity[x])\n",
    "    \n",
    "    print(money_spent)"
   ]
  },
  {
   "cell_type": "code",
   "execution_count": null,
   "id": "distributed-trading",
   "metadata": {},
   "outputs": [],
   "source": []
  }
 ],
 "metadata": {
  "kernelspec": {
   "display_name": "Python 3",
   "language": "python",
   "name": "python3"
  },
  "language_info": {
   "codemirror_mode": {
    "name": "ipython",
    "version": 3
   },
   "file_extension": ".py",
   "mimetype": "text/x-python",
   "name": "python",
   "nbconvert_exporter": "python",
   "pygments_lexer": "ipython3",
   "version": "3.9.1"
  }
 },
 "nbformat": 4,
 "nbformat_minor": 5
}
